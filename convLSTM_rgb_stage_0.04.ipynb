{
 "cells": [
  {
   "cell_type": "code",
   "execution_count": 1,
   "metadata": {},
   "outputs": [],
   "source": [
    "import pandas as pd\n",
    "import numpy as np\n",
    "from convlstm import ConvLSTM\n",
    "import torch\n",
    "import torch.nn as nn\n",
    "import torch.nn.functional as F\n",
    "import torch.optim as optim\n",
    "from torch.autograd import Variable\n",
    "import os\n",
    "from skimage import io\n",
    "from sklearn.model_selection import train_test_split\n",
    "\n"
   ]
  },
  {
   "cell_type": "code",
   "execution_count": 2,
   "metadata": {},
   "outputs": [],
   "source": [
    "data_train = pd.read_csv(\"dataset/data_skill_corner/label_edit.txt\",skiprows=1,\n",
    "                         names=['frame','intention_type','current_velocity','steering_wheel_angle','dlm'],\n",
    "                         sep='\\s+')\n",
    "data_train = data_train.to_numpy()\n",
    "\n",
    "\n",
    "#print (y_train.shape,y_test.shape)        \n",
    "root_dir = 'dataset/data_skill_corner/rgb_0/'\n"
   ]
  },
  {
   "cell_type": "code",
   "execution_count": 6,
   "metadata": {},
   "outputs": [],
   "source": [
    "class RGBDataset():\n",
    "    \"\"\"Face Landmarks dataset.\"\"\"\n",
    "        \n",
    "    def __init__(self, nb_frames,root_dir):\n",
    "        \"\"\"\n",
    "        Args:\n",
    "            csv_file (string): Path to the csv file with annotations.\n",
    "            root_dir (string): Directory with all the images.\n",
    "            transform (callable, optional): Optional transform to be applied\n",
    "                on a sample.\n",
    "        \"\"\"\n",
    "        self.data = pd.read_csv(\"dataset/data_skill_corner/label_edit.txt\",skiprows=1,\n",
    "                                       names=['frame','intention_type','current_velocity',\n",
    "                                              'steering_wheel_angle','dlm'],sep='\\s+').to_numpy()\n",
    "        self.data_train,_ = train_test_split(self.data,test_size = 0.2, shuffle=False)\n",
    "        self.nb_frames = nb_frames\n",
    "        self.root_dir = root_dir\n",
    "\n",
    "\n",
    "    def __len__(self):\n",
    "        return len(self.data_train) - self.nb_frames*3\n",
    "        #return 200\n",
    "    def __getitem__(self, idx):\n",
    "        \n",
    "        if torch.is_tensor(idx):\n",
    "            idx = idx.tolist()\n",
    "        \n",
    "        X_train_t = [io.imread(os.path.join(self.root_dir,str(self.data_train[idx+i,0])+'.jpg')).astype(np.float32) for i in range (self.nb_frames)] \n",
    "        X_train = np.stack(X_train_t, axis=0)        \n",
    "        X_train1 = np.moveaxis(X_train,-1,1)\n",
    "        \n",
    "        y_train = self.data_train[idx+self.nb_frames,2:4].astype(np.float32)\n",
    "        y_train1 = y_train.reshape(1,2)\n",
    "        sample = {'X_train': X_train1, 'y_train': y_train1}\n",
    "\n",
    "        return sample"
   ]
  },
  {
   "cell_type": "code",
   "execution_count": 7,
   "metadata": {},
   "outputs": [],
   "source": [
    "class RGBDataset_test():\n",
    "    \"\"\"Face Landmarks dataset.\"\"\"\n",
    "        \n",
    "    def __init__(self, nb_frames,root_dir):\n",
    "        \"\"\"\n",
    "        Args:\n",
    "            csv_file (string): Path to the csv file with annotations.\n",
    "            root_dir (string): Directory with all the images.\n",
    "            transform (callable, optional): Optional transform to be applied\n",
    "                on a sample.\n",
    "        \"\"\"\n",
    "        self.data = pd.read_csv(\"dataset/data_skill_corner/label_edit.txt\",skiprows=1,\n",
    "                                       names=['frame','intention_type','current_velocity',\n",
    "                                              'steering_wheel_angle','dlm'],sep='\\s+').to_numpy()\n",
    "        self.data_train,self.data_test= train_test_split(self.data,test_size = 0.2, shuffle=False)\n",
    "        self.nb_frames = nb_frames\n",
    "        self.root_dir = root_dir\n",
    "\n",
    "\n",
    "    def __len__(self):\n",
    "        return len(self.data_test) - self.nb_frames\n",
    "        #return 200\n",
    "    def __getitem__(self, idx):\n",
    "        \n",
    "        if torch.is_tensor(idx):\n",
    "            idx = idx.tolist()\n",
    "        \n",
    "        X_test_t = [io.imread(os.path.join(self.root_dir,str(self.data_test[idx+i,0])+'.jpg')).astype(np.float32) for i in range (self.nb_frames)] \n",
    "        X_test = np.stack(X_test_t, axis=0)        \n",
    "        X_test1 = np.moveaxis(X_test,-1,1)\n",
    "        \n",
    "        y_test = self.data_test[idx+self.nb_frames,2:4].astype(np.float32)\n",
    "        y_test1 = y_test.reshape(1,2)\n",
    "        sample = {'X_test': X_test1, 'y_test': y_test1}\n",
    "\n",
    "        return sample"
   ]
  },
  {
   "cell_type": "code",
   "execution_count": 8,
   "metadata": {},
   "outputs": [],
   "source": [
    "NUM_FRAMES=5\n",
    "\n",
    "rgb_train = RGBDataset(NUM_FRAMES,'dataset/data_skill_corner/rgb_0/') #frame\n",
    "rgb_test = RGBDataset_test(NUM_FRAMES,'dataset/data_skill_corner/rgb_0/')\n",
    "sample = rgb_test[0]\n",
    "#print (sample['X_test'].shape) #(5, 3, 224, 224)\n",
    "#print (sample['y_test'].shape) #(1, 2)\n",
    "from torch.utils.data import Dataset, DataLoader\n",
    "dataloader_train = DataLoader(rgb_train, batch_size=8,\n",
    "                        shuffle=False, num_workers=4)\n",
    "dataloader_test = DataLoader(rgb_test, batch_size=8,\n",
    "                        shuffle=False, num_workers=4)"
   ]
  },
  {
   "cell_type": "code",
   "execution_count": 15,
   "metadata": {
    "scrolled": true
   },
   "outputs": [
    {
     "name": "stdout",
     "output_type": "stream",
     "text": [
      "Net(\n",
      "  (maxpool): MaxPool3d(kernel_size=(1, 5, 5), stride=(1, 3, 3), padding=0, dilation=1, ceil_mode=False)\n",
      "  (BD1): BatchNorm2d(32, eps=1e-05, momentum=0.1, affine=True, track_running_stats=True)\n",
      "  (BD2): BatchNorm2d(16, eps=1e-05, momentum=0.1, affine=True, track_running_stats=True)\n",
      "  (drop): Dropout(p=0.3, inplace=False)\n",
      "  (conv1): ConvLSTM(\n",
      "    (cell_list): ModuleList(\n",
      "      (0): ConvLSTMCell(\n",
      "        (conv): Conv2d(67, 256, kernel_size=(3, 3), stride=(1, 1), padding=(1, 1))\n",
      "      )\n",
      "      (1): ConvLSTMCell(\n",
      "        (conv): Conv2d(96, 128, kernel_size=(3, 3), stride=(1, 1), padding=(1, 1))\n",
      "      )\n",
      "      (2): ConvLSTMCell(\n",
      "        (conv): Conv2d(64, 128, kernel_size=(3, 3), stride=(1, 1), padding=(1, 1))\n",
      "      )\n",
      "    )\n",
      "  )\n",
      "  (conv2): Conv2d(32, 16, kernel_size=(3, 3), stride=(2, 2))\n",
      "  (fc1): Linear(in_features=6480, out_features=120, bias=True)\n",
      "  (fc2): Linear(in_features=120, out_features=84, bias=True)\n",
      "  (fc3): Linear(in_features=84, out_features=2, bias=True)\n",
      ")\n",
      "1131974\n"
     ]
    }
   ],
   "source": [
    "class Net(nn.Module):\n",
    "    def __init__(self):\n",
    "        super(Net, self).__init__()\n",
    "        global NUM_FRAMES\n",
    "        #self.conv1 = ConvLSTM(input_channels=1, hidden_channels=[64, 32, 32], kernel_size=3, step=5,\n",
    "        #           effective_step=[4]).cuda()\n",
    "        \n",
    "        self.maxpool= nn.MaxPool3d((1,5,5),stride=(1,3,3))\n",
    "        self.BD1 = nn.BatchNorm2d(32)\n",
    "        self.BD2 = nn.BatchNorm2d(16)\n",
    "        self.drop = nn.Dropout(p=0.3)\n",
    "        self.conv1 = ConvLSTM(input_size = (74,74), input_dim = 3, hidden_dim = [64, 32, 32], \n",
    "                              kernel_size = (3,3), num_layers = 3, batch_first=True)\n",
    "        self.conv2 = nn.Conv2d(32, 16, kernel_size=3,stride=2)\n",
    "        self.fc1 = nn.Linear(NUM_FRAMES*16*9*9, 120)\n",
    "        self.fc2 = nn.Linear(120, 84)\n",
    "        self.fc3 = nn.Linear(84, 2)\n",
    "\n",
    "    def forward(self, x):\n",
    "        \n",
    "        x = self.maxpool(x)\n",
    "        #print (x.shape)\n",
    "        x = self.conv1(x)     \n",
    "        x = self.BD1(x[0][0])    \n",
    "        x = F.relu(F.max_pool2d(x,2))  \n",
    "        #x = self.drop(x)\n",
    "        x = self.BD2(self.conv2(x))  \n",
    "        x = F.relu(F.max_pool2d(x,2))  \n",
    "        \n",
    "        x = x.view(1,-1)\n",
    "        #x = self.drop(x)\n",
    "        x = F.relu(self.fc1(x))    \n",
    "        \n",
    "        \n",
    "        x = F.relu(self.fc2(x))\n",
    "        x = self.fc3(x).reshape(-1,1,2)\n",
    "        return x\n",
    "\n",
    "\n",
    "net = Net().cuda()\n",
    "\n",
    "print(net)\n",
    "\n",
    "print(sum(p.numel() for p in net.parameters()))"
   ]
  },
  {
   "cell_type": "code",
   "execution_count": 16,
   "metadata": {},
   "outputs": [
    {
     "name": "stdout",
     "output_type": "stream",
     "text": [
      "0.0\n"
     ]
    },
    {
     "data": {
      "image/png": "[encoded data removed]",
      "text/plain": [
       "<Figure size 432x288 with 1 Axes>"
      ]
     },
     "metadata": {
      "needs_background": "light"
     },
     "output_type": "display_data"
    }
   ],
   "source": [
    "import matplotlib.pyplot as plt\n",
    "import torch.optim as optim\n",
    "from torch.autograd import Variable\n",
    "net1 = Net().cuda()\n",
    "p = Variable(torch.randn(1,5, 3, 224, 224)).cuda()\n",
    "q = Variable(torch.randn(1,1,2)).cuda()\n",
    "#print (out.shape)\n",
    "\n",
    "criterion = nn.MSELoss()\n",
    "optimizer = optim.SGD(net1.parameters(), lr=0.01)\n",
    "#optimizer = optim.Adam(net.parameters(), lr=0.01,betas=(0.9,0.99))\n",
    "loss_values = []\n",
    "for i in range (50):\n",
    "    optimizer.zero_grad()\n",
    "     \n",
    "    out = net1(p)\n",
    "\n",
    "    los = criterion(out, q)\n",
    "      \n",
    "    los.backward()\n",
    "    #print(i,los)\n",
    "    optimizer.step()\n",
    "    \n",
    "    loss_values.append(los.item())\n",
    "#del p,q,out,los\n",
    "#torch.cuda.empty_cache()     \n",
    "plt.plot(loss_values)     \n",
    "print(loss_values[-1])"
   ]
  },
  {
   "cell_type": "code",
   "execution_count": null,
   "metadata": {},
   "outputs": [
    {
     "name": "stdout",
     "output_type": "stream",
     "text": [
      "[epoch1] running_loss: 277.962, test_loss:97.752\n",
      "[epoch2] running_loss: 232.092, test_loss:76.860\n",
      "[epoch3] running_loss: 183.158, test_loss:62.427\n",
      "[epoch4] running_loss: 138.492, test_loss:54.603\n",
      "[epoch5] running_loss: 115.672, test_loss:47.883\n",
      "[epoch6] running_loss: 99.002, test_loss:41.837\n",
      "[epoch7] running_loss: 87.871, test_loss:38.337\n",
      "[epoch8] running_loss: 80.605, test_loss:36.573\n",
      "[epoch9] running_loss: 74.839, test_loss:34.445\n",
      "[epoch10] running_loss: 69.940, test_loss:33.888\n",
      "[epoch11] running_loss: 66.092, test_loss:33.097\n",
      "[epoch12] running_loss: 63.143, test_loss:32.639\n",
      "[epoch13] running_loss: 60.726, test_loss:32.669\n",
      "[epoch14] running_loss: 58.448, test_loss:32.197\n",
      "[epoch15] running_loss: 56.437, test_loss:32.335\n",
      "[epoch16] running_loss: 54.455, test_loss:31.923\n",
      "[epoch17] running_loss: 52.721, test_loss:31.763\n",
      "[epoch18] running_loss: 51.267, test_loss:31.499\n",
      "[epoch19] running_loss: 49.923, test_loss:31.296\n",
      "[epoch20] running_loss: 48.586, test_loss:31.159\n",
      "[epoch21] running_loss: 47.306, test_loss:31.145\n",
      "[epoch22] running_loss: 46.084, test_loss:31.131\n",
      "[epoch23] running_loss: 44.938, test_loss:31.039\n",
      "[epoch24] running_loss: 44.026, test_loss:30.876\n",
      "[epoch25] running_loss: 42.939, test_loss:30.741\n",
      "[epoch26] running_loss: 42.009, test_loss:30.845\n",
      "[epoch27] running_loss: 41.139, test_loss:30.716\n",
      "[epoch28] running_loss: 40.250, test_loss:30.809\n",
      "[epoch29] running_loss: 39.455, test_loss:30.601\n",
      "[epoch30] running_loss: 38.613, test_loss:30.643\n",
      "[epoch31] running_loss: 37.979, test_loss:30.498\n",
      "[epoch32] running_loss: 37.149, test_loss:30.398\n",
      "[epoch33] running_loss: 36.467, test_loss:30.282\n",
      "[epoch34] running_loss: 35.761, test_loss:30.283\n",
      "[epoch35] running_loss: 35.128, test_loss:30.269\n",
      "[epoch36] running_loss: 34.481, test_loss:30.199\n",
      "[epoch37] running_loss: 33.954, test_loss:30.191\n",
      "[epoch38] running_loss: 33.371, test_loss:30.212\n",
      "[epoch39] running_loss: 32.702, test_loss:30.289\n",
      "[epoch40] running_loss: 32.131, test_loss:30.345\n",
      "[epoch41] running_loss: 31.544, test_loss:30.040\n",
      "[epoch42] running_loss: 31.220, test_loss:29.968\n",
      "[epoch43] running_loss: 30.592, test_loss:30.077\n"
     ]
    }
   ],
   "source": [
    "import torch.optim as optim\n",
    "import matplotlib.pyplot as plt\n",
    "# create your optimizer\n",
    "net = Net().cuda()\n",
    "criterion = nn.MSELoss()\n",
    "#optimizer = optim.Adam(net.parameters(), lr=0.005,betas=(0.9,0.99))\n",
    "optimizer = optim.SGD(net.parameters(), lr=0.0005)\n",
    "loss_values = []\n",
    "test_values = []\n",
    "for epoch in range(200):  # loop over the dataset multiple times\n",
    "    \n",
    "    running_loss = 0.0\n",
    "    running_test_loss = 0.0\n",
    "    for i,data in enumerate(dataloader_train,0):\n",
    "        \n",
    "        # get the inputs; data is a list of [inputs, labels]\n",
    "        X_t, y_t = data['X_train'].cuda(),data['y_train'].cuda()\n",
    "        \n",
    "        #print(X_t) #torch.Size([10, 5, 3, 224, 224]) torch.Size([10, 1, 2])\n",
    "        # zero the parameter gradients\n",
    "        optimizer.zero_grad()\n",
    "        \n",
    "        \n",
    "        for j in range (len(X_t)):\n",
    "            outputs = net(X_t[j].reshape(1,NUM_FRAMES,3,224,224))\n",
    "            if j == 0:\n",
    "                loss = criterion(outputs, y_t[j].reshape(1,1,2))\n",
    "                #print(loss)\n",
    "                \n",
    "            else:\n",
    "                loss += criterion(outputs, y_t[j].reshape(1,1,2))\n",
    "\n",
    "        loss.backward()\n",
    "        optimizer.step()       \n",
    "\n",
    "        # print statistics\n",
    "        \n",
    "        running_loss += loss.item()\n",
    "    loss_values.append(running_loss)\n",
    "                   \n",
    "    with torch.no_grad():        \n",
    "        for i,data in enumerate(dataloader_test,0):\n",
    "            X_test, y_test = data['X_test'].cuda(),data['y_test'].cuda()\n",
    "            for j in range (len(X_test)):\n",
    "                out_test = net(X_test[j].reshape(1,NUM_FRAMES,3,224,224))\n",
    "                if j ==0:\n",
    "                    test_loss = criterion(out_test, y_test[j].reshape(1,1,2))\n",
    "                else:\n",
    "                    test_loss += criterion(out_test, y_test[j].reshape(1,1,2))\n",
    "                    \n",
    "            running_test_loss += test_loss.item()\n",
    "\n",
    "        test_values.append(running_test_loss)\n",
    "       \n",
    "    \n",
    "    print('[epoch%d] running_loss: %.3f, test_loss:%.3f' %(epoch + 1, running_loss, running_test_loss))\n",
    "\n",
    "          \n",
    "\n",
    "    #plt.plot(loss_values) \n",
    "    #plt.plot(test_values) \n",
    "   \n",
    "    \n",
    "\n",
    "\n",
    "print('Finished Training')\n"
   ]
  },
  {
   "cell_type": "code",
   "execution_count": 28,
   "metadata": {},
   "outputs": [
    {
     "data": {
      "text/plain": [
       "[<matplotlib.lines.Line2D at 0x7f290fc68fd0>]"
      ]
     },
     "execution_count": 28,
     "metadata": {},
     "output_type": "execute_result"
    },
    {
     "data": {
      "image/png": "[encoded data removed]",
      "text/plain": [
       "<Figure size 432x288 with 1 Axes>"
      ]
     },
     "metadata": {
      "needs_background": "light"
     },
     "output_type": "display_data"
    }
   ],
   "source": [
    "plt.plot(loss_values) \n",
    "plt.plot(test_values) "
   ]
  },
  {
   "cell_type": "code",
   "execution_count": 29,
   "metadata": {},
   "outputs": [],
   "source": [
    "torch.save(net.state_dict(), 'dataset/data_skill_corner/model_004')"
   ]
  },
  {
   "cell_type": "code",
   "execution_count": null,
   "metadata": {},
   "outputs": [],
   "source": [
    "model = TheModelClass(*args, **kwargs)\n",
    "model.load_state_dict(torch.load(PATH))\n",
    "model.eval() "
   ]
  }
 ],
 "metadata": {
  "kernelspec": {
   "display_name": "Python 3",
   "language": "python",
   "name": "python3"
  },
  "language_info": {
   "codemirror_mode": {
    "name": "ipython",
    "version": 3
   },
   "file_extension": ".py",
   "mimetype": "text/x-python",
   "name": "python",
   "nbconvert_exporter": "python",
   "pygments_lexer": "ipython3",
   "version": "3.7.7"
  }
 },
 "nbformat": 4,
 "nbformat_minor": 4
}
