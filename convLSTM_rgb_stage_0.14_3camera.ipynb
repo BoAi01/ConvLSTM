{
 "cells": [
  {
   "cell_type": "code",
   "execution_count": 3,
   "metadata": {},
   "outputs": [],
   "source": [
    "import pandas as pd\n",
    "import numpy as np\n",
    "from convlstm import ConvLSTM\n",
    "import torch\n",
    "import torch.nn as nn\n",
    "import torch.nn.functional as F\n",
    "import torch.optim as optim\n",
    "from torch.autograd import Variable\n",
    "import os\n",
    "from skimage import io\n",
    "from sklearn.model_selection import train_test_split\n",
    "\n"
   ]
  },
  {
   "cell_type": "code",
   "execution_count": 4,
   "metadata": {},
   "outputs": [
    {
     "name": "stdout",
     "output_type": "stream",
     "text": [
      "(3638, 3)\n"
     ]
    }
   ],
   "source": [
    "data_image = pd.read_csv(\"dataset/3_cam_dataset/dynamic01/cmd_vel1.csv\",usecols=['rosbagTimestamp','x','z'])\n",
    "data_image = data_image.to_numpy()\n",
    "data_image.shape\n",
    "\n",
    "\n",
    "print (data_image.shape)        \n",
    "\n"
   ]
  },
  {
   "cell_type": "code",
   "execution_count": 5,
   "metadata": {},
   "outputs": [],
   "source": [
    "class RGBDataset():\n",
    "    \"\"\"Face Landmarks dataset.\"\"\"\n",
    "        \n",
    "    def __init__(self, nb_frames,root_dir1,root_dir2,root_dir3):\n",
    "        \"\"\"\n",
    "        Args:\n",
    "            csv_file (string): Path to the csv file with annotations.\n",
    "            root_dir (string): Directory with all the images.\n",
    "            transform (callable, optional): Optional transform to be applied\n",
    "                on a sample.\n",
    "        \"\"\"\n",
    "        self.data = pd.read_csv(\"dataset/3_cam_dataset/dynamic01/cmd_vel1.csv\",usecols=['rosbagTimestamp','x','z']).to_numpy()\n",
    "        self.data_train,_ = train_test_split(self.data,test_size = 0.1, shuffle=False)\n",
    "        self.nb_frames = nb_frames\n",
    "        self.root_dir1 = root_dir1\n",
    "        self.root_dir2 = root_dir2\n",
    "        self.root_dir3 = root_dir3\n",
    "\n",
    "\n",
    "    def __len__(self):\n",
    "        return len(self.data_train) -10\n",
    "        #return len(self.data_train) - (self.nb_frames)\n",
    "        #return 200\n",
    "    def __getitem__(self, idx):\n",
    "        \n",
    "        if torch.is_tensor(idx):\n",
    "            idx = idx.tolist()\n",
    "        \n",
    "        X_train_t1 = [io.imread(os.path.join(self.root_dir1,str(int(self.data_train[idx+i,0]))+'.jpeg')).astype(np.float32) for i in [0,1,2,3,4,5]]\n",
    "        X_train_t2 = [io.imread(os.path.join(self.root_dir2,str(int(self.data_train[idx+i,0]))+'.jpeg')).astype(np.float32) for i in [0,1,2,3,4,5]] \n",
    "        X_train_t3 = [io.imread(os.path.join(self.root_dir3,str(int(self.data_train[idx+i,0]))+'.jpeg')).astype(np.float32) for i in [0,1,2,3,4,5]] \n",
    "        X_train_t1 = np.stack(X_train_t1, axis=0)\n",
    "        X_train_t2 = np.stack(X_train_t2, axis=0) \n",
    "        X_train_t3 = np.stack(X_train_t3, axis=0) \n",
    "        X_train = np.concatenate((X_train_t3,X_train_t2,X_train_t1),axis =2)\n",
    "        \n",
    "        \n",
    "        X_train1 = np.moveaxis(X_train,-1,1)\n",
    "        \n",
    "        y_train_t = [self.data_train[idx+i,1:3].astype(np.float32) for i in [5,6,7,8,9]]\n",
    "        y_train = np.stack(y_train_t, axis=0)\n",
    "        y_train1 = y_train.reshape(5,2)\n",
    "        \n",
    "        sample = {'X_train': X_train1, 'y_train': y_train1}\n",
    "\n",
    "        return sample"
   ]
  },
  {
   "cell_type": "code",
   "execution_count": 6,
   "metadata": {},
   "outputs": [],
   "source": [
    "class RGBDataset_test():\n",
    "    \"\"\"Face Landmarks dataset.\"\"\"\n",
    "        \n",
    "    def __init__(self, nb_frames,root_dir1,root_dir2,root_dir3):\n",
    "        \"\"\"\n",
    "        Args:\n",
    "            csv_file (string): Path to the csv file with annotations.\n",
    "            root_dir (string): Directory with all the images.\n",
    "            transform (callable, optional): Optional transform to be applied\n",
    "                on a sample.\n",
    "        \"\"\"\n",
    "        self.data = pd.read_csv(\"dataset/3_cam_dataset/dynamic01/cmd_vel1.csv\",usecols=['rosbagTimestamp','x','z']).to_numpy()\n",
    "        self.data_train,self.data_test= train_test_split(self.data,test_size = 0.1, shuffle=False)\n",
    "        self.nb_frames = nb_frames\n",
    "        self.root_dir1 = root_dir1\n",
    "        self.root_dir2 = root_dir2\n",
    "        self.root_dir3 = root_dir3\n",
    "\n",
    "\n",
    "    def __len__(self):\n",
    "        return len(self.data_test) - 10\n",
    "        #return 200\n",
    "    def __getitem__(self, idx):\n",
    "        \n",
    "        if torch.is_tensor(idx):\n",
    "            idx = idx.tolist()\n",
    "        \n",
    "        X_train_t1 = [io.imread(os.path.join(self.root_dir1,str(int(self.data_train[idx+i,0]))+'.jpeg')).astype(np.float32) for i in [0,1,2,3,4,5]]\n",
    "        X_train_t2 = [io.imread(os.path.join(self.root_dir2,str(int(self.data_train[idx+i,0]))+'.jpeg')).astype(np.float32) for i in [0,1,2,3,4,5]] \n",
    "        X_train_t3 = [io.imread(os.path.join(self.root_dir3,str(int(self.data_train[idx+i,0]))+'.jpeg')).astype(np.float32) for i in [0,1,2,3,4,5]] \n",
    "        X_train_t1 = np.stack(X_train_t1, axis=0)\n",
    "        X_train_t2 = np.stack(X_train_t2, axis=0) \n",
    "        X_train_t3 = np.stack(X_train_t3, axis=0) \n",
    "        X_train = np.concatenate((X_train_t3,X_train_t2,X_train_t1),axis =2)       \n",
    "        X_test1 = np.moveaxis(X_train,-1,1)\n",
    "        \n",
    "        y_test_t = [self.data_test[idx+i,1:3].astype(np.float32)for i in [5,6,7,8,9]]\n",
    "        y_test1 = np.stack(y_test_t,axis=0)\n",
    "        y_test1 = y_test1.reshape(5,2)\n",
    "        sample = {'X_test': X_test1, 'y_test': y_test1}\n",
    "\n",
    "        return sample"
   ]
  },
  {
   "cell_type": "code",
   "execution_count": 7,
   "metadata": {},
   "outputs": [
    {
     "name": "stdout",
     "output_type": "stream",
     "text": [
      "(6, 3, 112, 336)\n",
      "(5, 2)\n"
     ]
    }
   ],
   "source": [
    "root_dir1 = 'dataset/3_cam_dataset/dynamic01/img1/'\n",
    "root_dir2 = 'dataset/3_cam_dataset/dynamic01/img2/'\n",
    "root_dir3 = 'dataset/3_cam_dataset/dynamic01/img3/'\n",
    "NUM_FRAMES=6\n",
    "\n",
    "rgb_train = RGBDataset(NUM_FRAMES,root_dir1,root_dir2,root_dir3) #frame\n",
    "rgb_test = RGBDataset_test(NUM_FRAMES,root_dir1,root_dir2,root_dir3)\n",
    "sample = rgb_train[0]\n",
    "print (sample['X_train'].shape) #(5, 3, 112,336)\n",
    "print (sample['y_train'].shape) #(1, 2)\n",
    "from torch.utils.data import Dataset, DataLoader\n",
    "dataloader_train = DataLoader(rgb_train, batch_size=16,shuffle=False, num_workers=4)\n",
    "dataloader_test = DataLoader(rgb_test, batch_size=16,shuffle=False, num_workers=4)"
   ]
  },
  {
   "cell_type": "code",
   "execution_count": 12,
   "metadata": {
    "scrolled": false
   },
   "outputs": [
    {
     "name": "stdout",
     "output_type": "stream",
     "text": [
      "Net04(\n",
      "  (maxpool): MaxPool3d(kernel_size=(1, 5, 5), stride=(1, 3, 3), padding=0, dilation=1, ceil_mode=False)\n",
      "  (BD): BatchNorm2d(16, eps=1e-05, momentum=0.1, affine=True, track_running_stats=True)\n",
      "  (drop): Dropout(p=0.3, inplace=False)\n",
      "  (conv1): ConvLSTM(\n",
      "    (cell_list): ModuleList(\n",
      "      (0): ConvLSTMCell(\n",
      "        (conv): Conv2d(67, 256, kernel_size=(3, 3), stride=(1, 1), padding=(1, 1))\n",
      "      )\n",
      "      (1): ConvLSTMCell(\n",
      "        (conv): Conv2d(96, 128, kernel_size=(3, 3), stride=(1, 1), padding=(1, 1))\n",
      "      )\n",
      "      (2): ConvLSTMCell(\n",
      "        (conv): Conv2d(64, 128, kernel_size=(3, 3), stride=(1, 1), padding=(1, 1))\n",
      "      )\n",
      "      (3): ConvLSTMCell(\n",
      "        (conv): Conv2d(48, 64, kernel_size=(3, 3), stride=(1, 1), padding=(1, 1))\n",
      "      )\n",
      "    )\n",
      "  )\n",
      "  (conv2): Conv2d(16, 16, kernel_size=(5, 5), stride=(2, 2))\n",
      "  (fc1): Linear(in_features=3744, out_features=120, bias=True)\n",
      "  (fc2): Linear(in_features=120, out_features=40, bias=True)\n",
      "  (fc3): Linear(in_features=40, out_features=10, bias=True)\n",
      ")\n",
      "828010\n"
     ]
    }
   ],
   "source": [
    "class Net04(nn.Module):\n",
    "    def __init__(self):\n",
    "        super(Net04, self).__init__()\n",
    "        global NUM_FRAMES\n",
    "        #self.conv1 = ConvLSTM(input_channels=1, hidden_channels=[64, 32, 32], kernel_size=3, step=5,\n",
    "        #           effective_step=[4]).cuda()\n",
    "        \n",
    "        self.maxpool= nn.MaxPool3d((1,5,5),stride=(1,3,3))\n",
    "        self.BD = nn.BatchNorm2d(16)\n",
    "        self.drop = nn.Dropout(p=0.3)\n",
    "        self.conv1 = ConvLSTM(input_size = (36,111), input_dim = 3, hidden_dim = [64, 32, 32, 16], \n",
    "                              kernel_size = (3,3), num_layers = 4, batch_first=True)\n",
    "        self.conv2 = nn.Conv2d(16, 16, kernel_size=5,stride=2)\n",
    "        self.fc1 = nn.Linear(3744, 120)\n",
    "        self.fc2 = nn.Linear(120, 40)\n",
    "        self.fc3 = nn.Linear(40, 10)\n",
    "\n",
    "    def forward(self, x):\n",
    "        \n",
    "        #print (x.shape)\n",
    "        x = self.maxpool(x)\n",
    "        #x = np.moveaxis(x,1,2)\n",
    "        #print (x.shape)\n",
    "        \n",
    "        x = self.conv1(x)     \n",
    "        x = self.BD(x[0][0])\n",
    "        \n",
    "        #x = x[0][0]\n",
    "        #print (x.shape)\n",
    "        x = F.relu(F.max_pool2d(x,2))  \n",
    "        #print (x.shape)\n",
    "        x = self.BD(self.conv2(x))  \n",
    "        x = F.relu(F.max_pool2d(x,2))  \n",
    "        \n",
    "        x = x.view(1,-1)\n",
    "        x = F.relu(self.fc1(x))    \n",
    "        \n",
    "        \n",
    "        x = F.relu(self.fc2(x))\n",
    "        x = self.fc3(x).reshape(-1,1,2)\n",
    "        return x\n",
    "\n",
    "\n",
    "net = Net04().cuda()\n",
    "\n",
    "print(net)\n",
    "\n",
    "print(sum(p.numel() for p in net.parameters()))"
   ]
  },
  {
   "cell_type": "code",
   "execution_count": 13,
   "metadata": {},
   "outputs": [
    {
     "name": "stdout",
     "output_type": "stream",
     "text": [
      "0.014169315807521343\n"
     ]
    },
    {
     "data": {
      "image/png": "[encoded data removed]",
      "text/plain": [
       "<Figure size 432x288 with 1 Axes>"
      ]
     },
     "metadata": {
      "needs_background": "light"
     },
     "output_type": "display_data"
    }
   ],
   "source": [
    "import matplotlib.pyplot as plt\n",
    "import torch.optim as optim\n",
    "from torch.autograd import Variable\n",
    "#torch.manual_seed(0)\n",
    "net1 = Net04().cuda()\n",
    "p = Variable(torch.randn(1,6,3, 112, 336)).cuda()\n",
    "q = Variable(torch.randn(5,1,2)).cuda()\n",
    "#print (out.shape)\n",
    "\n",
    "criterion = nn.MSELoss()\n",
    "optimizer = optim.SGD(net1.parameters(), lr=0.005)\n",
    "#optimizer = optim.Adam(net1.parameters(), lr=0.0007,weight_decay=0.01)\n",
    "#optimizer = optim.Adam(net.parameters(), lr=0.01,betas=(0.9,0.99))\n",
    "loss_values = []\n",
    "for i in range (50):\n",
    "    optimizer.zero_grad()\n",
    "     \n",
    "    out = net1(p)\n",
    "\n",
    "    los = criterion(out, q)\n",
    "      \n",
    "    los.backward()\n",
    "    #print(i,los)\n",
    "    optimizer.step()\n",
    "    \n",
    "    loss_values.append(los.item())\n",
    "#del p,q,out,los\n",
    "#torch.cuda.empty_cache()     \n",
    "plt.plot(loss_values)     \n",
    "print(loss_values[-1])"
   ]
  },
  {
   "cell_type": "code",
   "execution_count": null,
   "metadata": {},
   "outputs": [
    {
     "name": "stdout",
     "output_type": "stream",
     "text": [
      "[epoch1] running_loss: 144.486, test_loss:16.832\n",
      "[epoch2] running_loss: 130.061, test_loss:17.629\n",
      "[epoch3] running_loss: 128.096, test_loss:17.891\n",
      "[epoch4] running_loss: 127.157, test_loss:18.160\n",
      "[epoch5] running_loss: 126.302, test_loss:17.559\n",
      "[epoch6] running_loss: 125.534, test_loss:17.569\n",
      "[epoch7] running_loss: 124.626, test_loss:17.421\n",
      "[epoch8] running_loss: 124.092, test_loss:17.324\n",
      "[epoch9] running_loss: 123.137, test_loss:17.405\n",
      "[epoch10] running_loss: 122.338, test_loss:17.690\n",
      "[epoch11] running_loss: 121.729, test_loss:17.570\n",
      "[epoch12] running_loss: 121.282, test_loss:17.689\n",
      "[epoch13] running_loss: 120.643, test_loss:17.831\n",
      "[epoch14] running_loss: 119.695, test_loss:17.836\n",
      "[epoch15] running_loss: 119.093, test_loss:17.937\n",
      "[epoch16] running_loss: 118.694, test_loss:17.928\n",
      "[epoch17] running_loss: 118.244, test_loss:18.077\n",
      "[epoch18] running_loss: 117.850, test_loss:18.093\n",
      "[epoch19] running_loss: 118.093, test_loss:18.039\n",
      "[epoch20] running_loss: 119.656, test_loss:17.768\n",
      "[epoch21] running_loss: 117.611, test_loss:17.758\n",
      "[epoch22] running_loss: 117.267, test_loss:17.884\n",
      "[epoch23] running_loss: 116.638, test_loss:18.094\n",
      "[epoch24] running_loss: 116.392, test_loss:18.378\n",
      "[epoch25] running_loss: 115.353, test_loss:18.174\n",
      "[epoch26] running_loss: 114.661, test_loss:18.181\n",
      "[epoch27] running_loss: 114.134, test_loss:18.066\n",
      "[epoch28] running_loss: 113.216, test_loss:17.976\n",
      "[epoch29] running_loss: 112.823, test_loss:18.139\n",
      "[epoch30] running_loss: 111.670, test_loss:18.151\n",
      "[epoch31] running_loss: 110.833, test_loss:18.257\n",
      "[epoch32] running_loss: 110.703, test_loss:18.268\n",
      "[epoch33] running_loss: 109.796, test_loss:18.182\n",
      "[epoch34] running_loss: 109.593, test_loss:18.294\n",
      "[epoch35] running_loss: 110.555, test_loss:18.525\n",
      "[epoch36] running_loss: 108.956, test_loss:18.517\n",
      "[epoch37] running_loss: 109.203, test_loss:18.549\n",
      "[epoch38] running_loss: 108.481, test_loss:18.548\n",
      "[epoch39] running_loss: 106.826, test_loss:18.670\n",
      "[epoch40] running_loss: 105.454, test_loss:18.630\n",
      "[epoch41] running_loss: 105.330, test_loss:18.749\n",
      "[epoch42] running_loss: 104.328, test_loss:17.914\n",
      "[epoch43] running_loss: 104.675, test_loss:18.640\n",
      "[epoch44] running_loss: 102.793, test_loss:18.584\n",
      "[epoch45] running_loss: 101.226, test_loss:18.439\n",
      "[epoch46] running_loss: 100.533, test_loss:18.220\n",
      "[epoch47] running_loss: 99.610, test_loss:18.331\n",
      "[epoch48] running_loss: 99.165, test_loss:17.958\n",
      "[epoch49] running_loss: 97.582, test_loss:18.424\n",
      "[epoch50] running_loss: 97.929, test_loss:18.965\n",
      "[epoch51] running_loss: 96.540, test_loss:17.983\n",
      "[epoch52] running_loss: 94.261, test_loss:18.823\n",
      "[epoch53] running_loss: 94.061, test_loss:18.397\n",
      "[epoch54] running_loss: 93.202, test_loss:18.300\n",
      "[epoch55] running_loss: 93.319, test_loss:19.887\n",
      "[epoch56] running_loss: 93.391, test_loss:18.209\n",
      "[epoch57] running_loss: 90.039, test_loss:18.341\n",
      "[epoch58] running_loss: 95.740, test_loss:19.662\n",
      "[epoch59] running_loss: 89.792, test_loss:18.406\n",
      "[epoch60] running_loss: 90.625, test_loss:18.256\n"
     ]
    }
   ],
   "source": [
    "import torch.optim as optim\n",
    "import matplotlib.pyplot as plt\n",
    "# create your optimizer\n",
    "net = Net04().cuda()\n",
    "criterion = nn.MSELoss()\n",
    "#optimizer = optim.Adam(net.parameters(), lr=0.0008,weight_decay=0.01)\n",
    "optimizer = optim.SGD(net.parameters(), lr=0.001)\n",
    "loss_values = []\n",
    "test_values = []\n",
    "for epoch in range(200):  # loop over the dataset multiple times\n",
    "    \n",
    "    running_loss = 0.0\n",
    "    running_test_loss = 0.0\n",
    "    for i,data in enumerate(dataloader_train,0):\n",
    "        \n",
    "        # get the inputs; data is a list of [inputs, labels]\n",
    "        X_t, y_t = data['X_train'].cuda(),data['y_train'].cuda()\n",
    "        \n",
    "        #print(X_t) #torch.Size([10, 5, 3, 224, 224]) torch.Size([10, 1, 2])\n",
    "        # zero the parameter gradients\n",
    "        optimizer.zero_grad()\n",
    "        \n",
    "        \n",
    "        for j in range (len(X_t)):\n",
    "            outputs = net(X_t[j].reshape(1,NUM_FRAMES,3,112,336))\n",
    "            if j == 0:\n",
    "                loss = criterion(outputs, y_t[j].reshape(-1,1,2))\n",
    "                #print(loss)\n",
    "                \n",
    "            else:\n",
    "                loss += criterion(outputs, y_t[j].reshape(-1,1,2))\n",
    "\n",
    "        loss.backward()\n",
    "        optimizer.step()       \n",
    "\n",
    "        # print statistics\n",
    "        \n",
    "        running_loss += loss.item()\n",
    "    loss_values.append(running_loss)\n",
    "    #print('[epoch%d] running_loss: %.3f,' %(epoch + 1, running_loss))\n",
    "             \n",
    "    with torch.no_grad():        \n",
    "        for i,data in enumerate(dataloader_test,0):\n",
    "            X_test, y_test = data['X_test'].cuda(),data['y_test'].cuda()\n",
    "            for j in range (len(X_test)):\n",
    "                out_test = net(X_test[j].reshape(1,NUM_FRAMES,3,112,336))\n",
    "                if j ==0:\n",
    "                    test_loss = criterion(out_test, y_test[j].reshape(-1,1,2))\n",
    "                else:\n",
    "                    test_loss += criterion(out_test, y_test[j].reshape(-1,1,2))\n",
    "                    \n",
    "            running_test_loss += test_loss.item()\n",
    "\n",
    "        test_values.append(running_test_loss)\n",
    "       \n",
    "    \n",
    "    print('[epoch%d] running_loss: %.3f, test_loss:%.3f' %(epoch + 1, running_loss, running_test_loss))\n",
    "\n",
    "\n",
    "print('Finished Training')\n"
   ]
  },
  {
   "cell_type": "code",
   "execution_count": 38,
   "metadata": {
    "scrolled": true
   },
   "outputs": [
    {
     "data": {
      "text/plain": [
       "[<matplotlib.lines.Line2D at 0x7f98b0391190>]"
      ]
     },
     "execution_count": 38,
     "metadata": {},
     "output_type": "execute_result"
    },
    {
     "data": {
      "image/png": "[encoded data removed]",
      "text/plain": [
       "<Figure size 432x288 with 1 Axes>"
      ]
     },
     "metadata": {
      "needs_background": "light"
     },
     "output_type": "display_data"
    }
   ],
   "source": [
    "plt.plot(loss_values) \n",
    "plt.plot(test_values) "
   ]
  },
  {
   "cell_type": "code",
   "execution_count": 39,
   "metadata": {},
   "outputs": [],
   "source": [
    "torch.save(net.state_dict(), 'dataset/data_skill_corner/models/model_303')"
   ]
  },
  {
   "cell_type": "code",
   "execution_count": null,
   "metadata": {},
   "outputs": [],
   "source": [
    "model = TheModelClass(*args, **kwargs)\n",
    "model.load_state_dict(torch.load(PATH))\n",
    "model.eval() "
   ]
  }
 ],
 "metadata": {
  "kernelspec": {
   "display_name": "Python 3",
   "language": "python",
   "name": "python3"
  },
  "language_info": {
   "codemirror_mode": {
    "name": "ipython",
    "version": 3
   },
   "file_extension": ".py",
   "mimetype": "text/x-python",
   "name": "python",
   "nbconvert_exporter": "python",
   "pygments_lexer": "ipython3",
   "version": "3.7.7"
  }
 },
 "nbformat": 4,
 "nbformat_minor": 4
}
