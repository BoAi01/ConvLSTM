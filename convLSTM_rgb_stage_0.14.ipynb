{
 "cells": [
  {
   "cell_type": "code",
   "execution_count": 1,
   "metadata": {},
   "outputs": [],
   "source": [
    "import pandas as pd\n",
    "import numpy as np\n",
    "from convlstm import ConvLSTM\n",
    "import torch\n",
    "import torch.nn as nn\n",
    "import torch.nn.functional as F\n",
    "import torch.optim as optim\n",
    "from torch.autograd import Variable\n",
    "import os\n",
    "from skimage import io\n",
    "from sklearn.model_selection import train_test_split\n",
    "\n"
   ]
  },
  {
   "cell_type": "code",
   "execution_count": 2,
   "metadata": {},
   "outputs": [],
   "source": [
    "data_image = pd.read_csv(\"dataset/new_data_set/_slash_cmd_vel.csv\",usecols=['rosbagTimestamp','x','z'])\n",
    "data_image = data_image.to_numpy()\n",
    "data_image.shape\n",
    "\n",
    "\n",
    "#print (y_train.shape,y_test.shape)        \n",
    "root_dir = 'dataset/new_data_set/rgb_image_jpeg/'\n"
   ]
  },
  {
   "cell_type": "code",
   "execution_count": 3,
   "metadata": {},
   "outputs": [],
   "source": [
    "class RGBDataset():\n",
    "    \"\"\"Face Landmarks dataset.\"\"\"\n",
    "        \n",
    "    def __init__(self, nb_frames,root_dir):\n",
    "        \"\"\"\n",
    "        Args:\n",
    "            csv_file (string): Path to the csv file with annotations.\n",
    "            root_dir (string): Directory with all the images.\n",
    "            transform (callable, optional): Optional transform to be applied\n",
    "                on a sample.\n",
    "        \"\"\"\n",
    "        self.data = pd.read_csv(\"dataset/new_data_set/_slash_cmd_vel.csv\",usecols=['rosbagTimestamp','x','z']).to_numpy()\n",
    "        self.data_train,_ = train_test_split(self.data,test_size = 0.1, shuffle=False)\n",
    "        self.nb_frames = nb_frames\n",
    "        self.root_dir = root_dir\n",
    "\n",
    "\n",
    "    def __len__(self):\n",
    "        return len(self.data_train) - (self.nb_frames)*3\n",
    "        #return 200\n",
    "    def __getitem__(self, idx):\n",
    "        \n",
    "        if torch.is_tensor(idx):\n",
    "            idx = idx.tolist()\n",
    "        \n",
    "        X_train_t = [io.imread(os.path.join(self.root_dir,str(int(self.data_train[idx+i*3,0]))+'.png')).astype(np.float32) for i in range (self.nb_frames)] \n",
    "        X_train = np.stack(X_train_t, axis=0)        \n",
    "        X_train1 = np.moveaxis(X_train,-1,1)\n",
    "        \n",
    "        y_train = self.data_train[idx+(self.nb_frames-1)*3,1:3].astype(np.float32)\n",
    "        y_train1 = y_train.reshape(1,2)\n",
    "        sample = {'X_train': X_train1, 'y_train': y_train1}\n",
    "\n",
    "        return sample"
   ]
  },
  {
   "cell_type": "code",
   "execution_count": 4,
   "metadata": {},
   "outputs": [],
   "source": [
    "class RGBDataset_test():\n",
    "    \"\"\"Face Landmarks dataset.\"\"\"\n",
    "        \n",
    "    def __init__(self, nb_frames,root_dir):\n",
    "        \"\"\"\n",
    "        Args:\n",
    "            csv_file (string): Path to the csv file with annotations.\n",
    "            root_dir (string): Directory with all the images.\n",
    "            transform (callable, optional): Optional transform to be applied\n",
    "                on a sample.\n",
    "        \"\"\"\n",
    "        self.data = pd.read_csv(\"dataset/new_data_set/_slash_cmd_vel.csv\",usecols=['rosbagTimestamp','x','z']).to_numpy()\n",
    "        self.data_train,self.data_test= train_test_split(self.data,test_size = 0.1, shuffle=False)\n",
    "        self.nb_frames = nb_frames\n",
    "        self.root_dir = root_dir\n",
    "\n",
    "\n",
    "    def __len__(self):\n",
    "        return len(self.data_test) - (self.nb_frames)*3\n",
    "        #return 200\n",
    "    def __getitem__(self, idx):\n",
    "        \n",
    "        if torch.is_tensor(idx):\n",
    "            idx = idx.tolist()\n",
    "        \n",
    "        X_test_t = [io.imread(os.path.join(self.root_dir,str(int(self.data_test[idx+3*i,0]))+'.png')).astype(np.float32) for i in range (self.nb_frames)] \n",
    "        X_test = np.stack(X_test_t, axis=0)        \n",
    "        X_test1 = np.moveaxis(X_test,-1,1)\n",
    "        \n",
    "        y_test = self.data_test[idx+(self.nb_frames-1)*3,1:3].astype(np.float32)\n",
    "        y_test1 = np.round(y_test.reshape(1,2),2)\n",
    "        sample = {'X_test': X_test1, 'y_test': y_test1}\n",
    "\n",
    "        return sample"
   ]
  },
  {
   "cell_type": "code",
   "execution_count": 5,
   "metadata": {},
   "outputs": [
    {
     "name": "stdout",
     "output_type": "stream",
     "text": [
      "(5, 3, 224, 224)\n",
      "(1, 2)\n"
     ]
    }
   ],
   "source": [
    "NUM_FRAMES=5\n",
    "\n",
    "rgb_train = RGBDataset(NUM_FRAMES,'dataset/new_data_set/rgb_image_jpeg/') #frame\n",
    "rgb_test = RGBDataset_test(NUM_FRAMES,'dataset/new_data_set/rgb_image_jpeg/')\n",
    "sample = rgb_test[0]\n",
    "print (sample['X_test'].shape) #(5, 3, 224, 224)\n",
    "print (sample['y_test'].shape) #(1, 2)\n",
    "from torch.utils.data import Dataset, DataLoader\n",
    "dataloader_train = DataLoader(rgb_train, batch_size=16,shuffle=False, num_workers=4)\n",
    "dataloader_test = DataLoader(rgb_test, batch_size=16,shuffle=False, num_workers=4)"
   ]
  },
  {
   "cell_type": "code",
   "execution_count": 6,
   "metadata": {
    "scrolled": true
   },
   "outputs": [
    {
     "data": {
      "text/plain": [
       "'\\nclass Net(nn.Module):\\n    def __init__(self):\\n        super(Net, self).__init__()\\n        global NUM_FRAMES\\n        #self.conv1 = ConvLSTM(input_channels=1, hidden_channels=[64, 32, 32], kernel_size=3, step=5,\\n        #           effective_step=[4]).cuda()\\n        \\n        self.maxpool= nn.MaxPool3d((1,5,5),stride=(1,3,3))\\n        \\n        #self.drop = nn.Dropout(p=0.3)\\n        self.conv1 = ConvLSTM(input_size = (24,24), input_dim = 3, hidden_dim = [64, 32, 16, 8], \\n                              kernel_size = (3,3), num_layers = 4, batch_first=True)\\n        self.BD = nn.BatchNorm2d(8)\\n        #self.conv2 = nn.Conv2d(16, 16, kernel_size=3,stride=2)\\n        \\n        self.fc1 = nn.Linear(5760, 120)\\n        self.fc2 = nn.Linear(120, 84)\\n        self.fc3 = nn.Linear(84, 2)\\n\\n    def forward(self, x):\\n        \\n        x = self.maxpool(x)\\n        x = self.maxpool(x)\\n        #print (x.shape)\\n        x = self.conv1(x)     \\n        x = self.BD(x[0][0])    \\n        x = F.relu(F.max_pool2d(x,2))  \\n        #x = self.BD(self.conv2(x))  \\n        #x = F.relu(F.max_pool2d(x,2))  \\n        \\n        x = x.view(1,-1)\\n        x = F.relu(self.fc1(x))    \\n        \\n        \\n        x = F.relu(self.fc2(x))\\n        x = self.fc3(x).reshape(-1,1,2)\\n        return x\\n\\n\\nnet = Net().cuda()\\n\\n#print(net)\\n\\n#print(sum(p.numel() for p in net.parameters()))\\n'"
      ]
     },
     "execution_count": 6,
     "metadata": {},
     "output_type": "execute_result"
    }
   ],
   "source": [
    "'''\n",
    "class Net(nn.Module):\n",
    "    def __init__(self):\n",
    "        super(Net, self).__init__()\n",
    "        global NUM_FRAMES\n",
    "        #self.conv1 = ConvLSTM(input_channels=1, hidden_channels=[64, 32, 32], kernel_size=3, step=5,\n",
    "        #           effective_step=[4]).cuda()\n",
    "        \n",
    "        self.maxpool= nn.MaxPool3d((1,5,5),stride=(1,3,3))\n",
    "        \n",
    "        #self.drop = nn.Dropout(p=0.3)\n",
    "        self.conv1 = ConvLSTM(input_size = (24,24), input_dim = 3, hidden_dim = [64, 32, 16, 8], \n",
    "                              kernel_size = (3,3), num_layers = 4, batch_first=True)\n",
    "        self.BD = nn.BatchNorm2d(8)\n",
    "        #self.conv2 = nn.Conv2d(16, 16, kernel_size=3,stride=2)\n",
    "        \n",
    "        self.fc1 = nn.Linear(5760, 120)\n",
    "        self.fc2 = nn.Linear(120, 84)\n",
    "        self.fc3 = nn.Linear(84, 2)\n",
    "\n",
    "    def forward(self, x):\n",
    "        \n",
    "        x = self.maxpool(x)\n",
    "        x = self.maxpool(x)\n",
    "        #print (x.shape)\n",
    "        x = self.conv1(x)     \n",
    "        x = self.BD(x[0][0])    \n",
    "        x = F.relu(F.max_pool2d(x,2))  \n",
    "        #x = self.BD(self.conv2(x))  \n",
    "        #x = F.relu(F.max_pool2d(x,2))  \n",
    "        \n",
    "        x = x.view(1,-1)\n",
    "        x = F.relu(self.fc1(x))    \n",
    "        \n",
    "        \n",
    "        x = F.relu(self.fc2(x))\n",
    "        x = self.fc3(x).reshape(-1,1,2)\n",
    "        return x\n",
    "\n",
    "\n",
    "net = Net().cuda()\n",
    "\n",
    "#print(net)\n",
    "\n",
    "#print(sum(p.numel() for p in net.parameters()))\n",
    "'''"
   ]
  },
  {
   "cell_type": "code",
   "execution_count": 7,
   "metadata": {},
   "outputs": [
    {
     "name": "stdout",
     "output_type": "stream",
     "text": [
      "Net04(\n",
      "  (maxpool): MaxPool3d(kernel_size=(1, 3, 3), stride=(1, 2, 2), padding=0, dilation=1, ceil_mode=False)\n",
      "  (BD): BatchNorm2d(16, eps=1e-05, momentum=0.1, affine=True, track_running_stats=True)\n",
      "  (drop): Dropout(p=0.3, inplace=False)\n",
      "  (conv1): ConvLSTM(\n",
      "    (cell_list): ModuleList(\n",
      "      (0): ConvLSTMCell(\n",
      "        (conv): Conv2d(67, 256, kernel_size=(3, 3), stride=(1, 1), padding=(1, 1))\n",
      "      )\n",
      "      (1): ConvLSTMCell(\n",
      "        (conv): Conv2d(96, 128, kernel_size=(3, 3), stride=(1, 1), padding=(1, 1))\n",
      "      )\n",
      "      (2): ConvLSTMCell(\n",
      "        (conv): Conv2d(48, 64, kernel_size=(3, 3), stride=(1, 1), padding=(1, 1))\n",
      "      )\n",
      "    )\n",
      "  )\n",
      "  (conv2): Conv2d(16, 16, kernel_size=(3, 3), stride=(2, 2))\n",
      "  (fc1): Linear(in_features=2880, out_features=120, bias=True)\n",
      "  (fc2): Linear(in_features=120, out_features=84, bias=True)\n",
      "  (fc3): Linear(in_features=84, out_features=2, bias=True)\n",
      ")\n",
      "651462\n"
     ]
    }
   ],
   "source": [
    "class Net04(nn.Module):\n",
    "    def __init__(self):\n",
    "        super(Net04, self).__init__()\n",
    "        global NUM_FRAMES\n",
    "        #self.conv1 = ConvLSTM(input_channels=1, hidden_channels=[64, 32, 32], kernel_size=3, step=5,\n",
    "        #           effective_step=[4]).cuda()\n",
    "        \n",
    "        self.maxpool= nn.MaxPool3d((1,3,3),stride=(1,2,2))\n",
    "        self.BD = nn.BatchNorm2d(16)\n",
    "        self.drop = nn.Dropout(p=0.3)\n",
    "        self.conv1 = ConvLSTM(input_size = (55,55), input_dim = 3, hidden_dim = [64, 32, 16], \n",
    "                              kernel_size = (3,3), num_layers = 3, batch_first=True)\n",
    "        self.conv2 = nn.Conv2d(16, 16, kernel_size=3,stride=2)\n",
    "        self.fc1 = nn.Linear(2880, 120)\n",
    "        self.fc2 = nn.Linear(120, 84)\n",
    "        self.fc3 = nn.Linear(84, 2)\n",
    "\n",
    "    def forward(self, x):\n",
    "        \n",
    "        x = self.maxpool(x)\n",
    "        x = self.maxpool(x)\n",
    "        #print (x.shape)\n",
    "        x = self.conv1(x)     \n",
    "        x = self.BD(x[0][0])    \n",
    "        x = F.relu(F.max_pool2d(x,2))  \n",
    "        #x = self.drop(x)\n",
    "        x = self.BD(self.conv2(x))  \n",
    "        x = F.relu(F.max_pool2d(x,2))  \n",
    "        \n",
    "        x = x.view(1,-1)\n",
    "        #x = self.drop(x)\n",
    "        x = F.relu(self.fc1(x))    \n",
    "        \n",
    "        \n",
    "        x = F.relu(self.fc2(x))\n",
    "        x = self.fc3(x).reshape(-1,1,2)\n",
    "        return x\n",
    "\n",
    "\n",
    "net = Net04().cuda()\n",
    "\n",
    "print(net)\n",
    "\n",
    "print(sum(p.numel() for p in net.parameters()))"
   ]
  },
  {
   "cell_type": "code",
   "execution_count": 8,
   "metadata": {},
   "outputs": [
    {
     "name": "stderr",
     "output_type": "stream",
     "text": [
      "/home/allenbi/anaconda3/lib/python3.7/site-packages/torch/nn/functional.py:1351: UserWarning: nn.functional.sigmoid is deprecated. Use torch.sigmoid instead.\n",
      "  warnings.warn(\"nn.functional.sigmoid is deprecated. Use torch.sigmoid instead.\")\n",
      "/home/allenbi/anaconda3/lib/python3.7/site-packages/torch/nn/functional.py:1340: UserWarning: nn.functional.tanh is deprecated. Use torch.tanh instead.\n",
      "  warnings.warn(\"nn.functional.tanh is deprecated. Use torch.tanh instead.\")\n"
     ]
    },
    {
     "name": "stdout",
     "output_type": "stream",
     "text": [
      "0.000182642339495942\n"
     ]
    },
    {
     "data": {
      "image/png": "[encoded data removed]",
      "text/plain": [
       "<Figure size 432x288 with 1 Axes>"
      ]
     },
     "metadata": {
      "needs_background": "light"
     },
     "output_type": "display_data"
    }
   ],
   "source": [
    "import matplotlib.pyplot as plt\n",
    "import torch.optim as optim\n",
    "from torch.autograd import Variable\n",
    "net1 = Net04().cuda()\n",
    "p = Variable(torch.randn(1,5, 3, 224, 224)).cuda()\n",
    "q = Variable(torch.randn(1,1,2)).cuda()\n",
    "#print (out.shape)\n",
    "\n",
    "criterion = nn.MSELoss()\n",
    "optimizer = optim.SGD(net1.parameters(), lr=0.001)\n",
    "#optimizer = optim.Adam(net.parameters(), lr=0.01,betas=(0.9,0.99))\n",
    "loss_values = []\n",
    "for i in range (50):\n",
    "    optimizer.zero_grad()\n",
    "     \n",
    "    out = net1(p)\n",
    "\n",
    "    los = criterion(out, q)\n",
    "      \n",
    "    los.backward()\n",
    "    #print(i,los)\n",
    "    optimizer.step()\n",
    "    \n",
    "    loss_values.append(los.item())\n",
    "#del p,q,out,los\n",
    "#torch.cuda.empty_cache()     \n",
    "plt.plot(loss_values)     \n",
    "print(loss_values[-1])"
   ]
  },
  {
   "cell_type": "code",
   "execution_count": 9,
   "metadata": {},
   "outputs": [
    {
     "name": "stdout",
     "output_type": "stream",
     "text": [
      "[epoch1] running_loss: 40.989, test_loss:4.964\n",
      "[epoch2] running_loss: 33.772, test_loss:4.421\n",
      "[epoch3] running_loss: 33.277, test_loss:4.636\n",
      "[epoch4] running_loss: 34.952, test_loss:4.070\n",
      "[epoch5] running_loss: 33.293, test_loss:3.872\n",
      "[epoch6] running_loss: 31.525, test_loss:3.575\n",
      "[epoch7] running_loss: 30.347, test_loss:3.661\n",
      "[epoch8] running_loss: 28.496, test_loss:3.455\n",
      "[epoch9] running_loss: 27.856, test_loss:3.219\n",
      "[epoch10] running_loss: 27.009, test_loss:3.656\n",
      "[epoch11] running_loss: 25.427, test_loss:3.463\n",
      "[epoch12] running_loss: 24.172, test_loss:3.646\n",
      "[epoch13] running_loss: 23.611, test_loss:3.458\n",
      "[epoch14] running_loss: 23.257, test_loss:3.411\n",
      "[epoch15] running_loss: 22.610, test_loss:3.335\n",
      "[epoch16] running_loss: 21.696, test_loss:3.368\n",
      "[epoch17] running_loss: 21.258, test_loss:3.370\n",
      "[epoch18] running_loss: 20.599, test_loss:3.347\n",
      "[epoch19] running_loss: 20.054, test_loss:3.349\n",
      "[epoch20] running_loss: 19.408, test_loss:3.297\n",
      "[epoch21] running_loss: 18.846, test_loss:3.334\n",
      "[epoch22] running_loss: 18.416, test_loss:3.314\n",
      "[epoch23] running_loss: 18.055, test_loss:3.267\n",
      "[epoch24] running_loss: 17.639, test_loss:3.304\n",
      "[epoch25] running_loss: 17.243, test_loss:3.309\n",
      "[epoch26] running_loss: 16.918, test_loss:3.375\n",
      "[epoch27] running_loss: 16.643, test_loss:3.492\n",
      "[epoch28] running_loss: 16.529, test_loss:3.300\n",
      "[epoch29] running_loss: 16.257, test_loss:3.308\n",
      "[epoch30] running_loss: 15.909, test_loss:3.393\n",
      "[epoch31] running_loss: 16.851, test_loss:3.399\n",
      "[epoch32] running_loss: 15.907, test_loss:3.453\n",
      "[epoch33] running_loss: 15.572, test_loss:3.381\n",
      "[epoch34] running_loss: 15.203, test_loss:3.371\n",
      "[epoch35] running_loss: 14.953, test_loss:3.581\n",
      "[epoch36] running_loss: 14.775, test_loss:3.332\n",
      "[epoch37] running_loss: 14.315, test_loss:3.375\n",
      "[epoch38] running_loss: 14.047, test_loss:3.508\n",
      "[epoch39] running_loss: 14.263, test_loss:3.439\n"
     ]
    },
    {
     "ename": "KeyboardInterrupt",
     "evalue": "",
     "output_type": "error",
     "traceback": [
      "\u001b[0;31m---------------------------------------------------------------------------\u001b[0m",
      "\u001b[0;31mKeyboardInterrupt\u001b[0m                         Traceback (most recent call last)",
      "\u001b[0;32m<ipython-input-9-1cfa228e9c21>\u001b[0m in \u001b[0;36m<module>\u001b[0;34m\u001b[0m\n\u001b[1;32m     31\u001b[0m                 \u001b[0mloss\u001b[0m \u001b[0;34m+=\u001b[0m \u001b[0mcriterion\u001b[0m\u001b[0;34m(\u001b[0m\u001b[0moutputs\u001b[0m\u001b[0;34m,\u001b[0m \u001b[0my_t\u001b[0m\u001b[0;34m[\u001b[0m\u001b[0mj\u001b[0m\u001b[0;34m]\u001b[0m\u001b[0;34m.\u001b[0m\u001b[0mreshape\u001b[0m\u001b[0;34m(\u001b[0m\u001b[0;36m1\u001b[0m\u001b[0;34m,\u001b[0m\u001b[0;36m1\u001b[0m\u001b[0;34m,\u001b[0m\u001b[0;36m2\u001b[0m\u001b[0;34m)\u001b[0m\u001b[0;34m)\u001b[0m\u001b[0;34m\u001b[0m\u001b[0;34m\u001b[0m\u001b[0m\n\u001b[1;32m     32\u001b[0m \u001b[0;34m\u001b[0m\u001b[0m\n\u001b[0;32m---> 33\u001b[0;31m         \u001b[0mloss\u001b[0m\u001b[0;34m.\u001b[0m\u001b[0mbackward\u001b[0m\u001b[0;34m(\u001b[0m\u001b[0;34m)\u001b[0m\u001b[0;34m\u001b[0m\u001b[0;34m\u001b[0m\u001b[0m\n\u001b[0m\u001b[1;32m     34\u001b[0m         \u001b[0moptimizer\u001b[0m\u001b[0;34m.\u001b[0m\u001b[0mstep\u001b[0m\u001b[0;34m(\u001b[0m\u001b[0;34m)\u001b[0m\u001b[0;34m\u001b[0m\u001b[0;34m\u001b[0m\u001b[0m\n\u001b[1;32m     35\u001b[0m \u001b[0;34m\u001b[0m\u001b[0m\n",
      "\u001b[0;32m~/anaconda3/lib/python3.7/site-packages/torch/tensor.py\u001b[0m in \u001b[0;36mbackward\u001b[0;34m(self, gradient, retain_graph, create_graph)\u001b[0m\n\u001b[1;32m    193\u001b[0m                 \u001b[0mproducts\u001b[0m\u001b[0;34m.\u001b[0m \u001b[0mDefaults\u001b[0m \u001b[0mto\u001b[0m\u001b[0;31m \u001b[0m\u001b[0;31m`\u001b[0m\u001b[0;31m`\u001b[0m\u001b[0;32mFalse\u001b[0m\u001b[0;31m`\u001b[0m\u001b[0;31m`\u001b[0m\u001b[0;34m.\u001b[0m\u001b[0;34m\u001b[0m\u001b[0;34m\u001b[0m\u001b[0m\n\u001b[1;32m    194\u001b[0m         \"\"\"\n\u001b[0;32m--> 195\u001b[0;31m         \u001b[0mtorch\u001b[0m\u001b[0;34m.\u001b[0m\u001b[0mautograd\u001b[0m\u001b[0;34m.\u001b[0m\u001b[0mbackward\u001b[0m\u001b[0;34m(\u001b[0m\u001b[0mself\u001b[0m\u001b[0;34m,\u001b[0m \u001b[0mgradient\u001b[0m\u001b[0;34m,\u001b[0m \u001b[0mretain_graph\u001b[0m\u001b[0;34m,\u001b[0m \u001b[0mcreate_graph\u001b[0m\u001b[0;34m)\u001b[0m\u001b[0;34m\u001b[0m\u001b[0;34m\u001b[0m\u001b[0m\n\u001b[0m\u001b[1;32m    196\u001b[0m \u001b[0;34m\u001b[0m\u001b[0m\n\u001b[1;32m    197\u001b[0m     \u001b[0;32mdef\u001b[0m \u001b[0mregister_hook\u001b[0m\u001b[0;34m(\u001b[0m\u001b[0mself\u001b[0m\u001b[0;34m,\u001b[0m \u001b[0mhook\u001b[0m\u001b[0;34m)\u001b[0m\u001b[0;34m:\u001b[0m\u001b[0;34m\u001b[0m\u001b[0;34m\u001b[0m\u001b[0m\n",
      "\u001b[0;32m~/anaconda3/lib/python3.7/site-packages/torch/autograd/__init__.py\u001b[0m in \u001b[0;36mbackward\u001b[0;34m(tensors, grad_tensors, retain_graph, create_graph, grad_variables)\u001b[0m\n\u001b[1;32m     97\u001b[0m     Variable._execution_engine.run_backward(\n\u001b[1;32m     98\u001b[0m         \u001b[0mtensors\u001b[0m\u001b[0;34m,\u001b[0m \u001b[0mgrad_tensors\u001b[0m\u001b[0;34m,\u001b[0m \u001b[0mretain_graph\u001b[0m\u001b[0;34m,\u001b[0m \u001b[0mcreate_graph\u001b[0m\u001b[0;34m,\u001b[0m\u001b[0;34m\u001b[0m\u001b[0;34m\u001b[0m\u001b[0m\n\u001b[0;32m---> 99\u001b[0;31m         allow_unreachable=True)  # allow_unreachable flag\n\u001b[0m\u001b[1;32m    100\u001b[0m \u001b[0;34m\u001b[0m\u001b[0m\n\u001b[1;32m    101\u001b[0m \u001b[0;34m\u001b[0m\u001b[0m\n",
      "\u001b[0;31mKeyboardInterrupt\u001b[0m: "
     ]
    }
   ],
   "source": [
    "import torch.optim as optim\n",
    "import matplotlib.pyplot as plt\n",
    "# create your optimizer\n",
    "net = Net04().cuda()\n",
    "criterion = nn.MSELoss()\n",
    "#optimizer = optim.Adam(net.parameters(), lr=0.005,betas=(0.9,0.99))\n",
    "optimizer = optim.SGD(net.parameters(), lr=0.0005)\n",
    "loss_values = []\n",
    "test_values = []\n",
    "for epoch in range(200):  # loop over the dataset multiple times\n",
    "    \n",
    "    running_loss = 0.0\n",
    "    running_test_loss = 0.0\n",
    "    for i,data in enumerate(dataloader_train,0):\n",
    "        \n",
    "        # get the inputs; data is a list of [inputs, labels]\n",
    "        X_t, y_t = data['X_train'].cuda(),data['y_train'].cuda()\n",
    "        \n",
    "        #print(X_t) #torch.Size([10, 5, 3, 224, 224]) torch.Size([10, 1, 2])\n",
    "        # zero the parameter gradients\n",
    "        optimizer.zero_grad()\n",
    "        \n",
    "        \n",
    "        for j in range (len(X_t)):\n",
    "            outputs = net(X_t[j].reshape(1,NUM_FRAMES,3,224,224))\n",
    "            if j == 0:\n",
    "                loss = criterion(outputs, y_t[j].reshape(1,1,2))\n",
    "                #print(loss)\n",
    "                \n",
    "            else:\n",
    "                loss += criterion(outputs, y_t[j].reshape(1,1,2))\n",
    "\n",
    "        loss.backward()\n",
    "        optimizer.step()       \n",
    "\n",
    "        # print statistics\n",
    "        \n",
    "        running_loss += loss.item()\n",
    "    loss_values.append(running_loss)\n",
    "    #print('[epoch%d] running_loss: %.3f,' %(epoch + 1, running_loss))\n",
    "             \n",
    "    with torch.no_grad():        \n",
    "        for i,data in enumerate(dataloader_test,0):\n",
    "            X_test, y_test = data['X_test'].cuda(),data['y_test'].cuda()\n",
    "            for j in range (len(X_test)):\n",
    "                out_test = net(X_test[j].reshape(1,NUM_FRAMES,3,224,224))\n",
    "                if j ==0:\n",
    "                    test_loss = criterion(out_test, y_test[j].reshape(1,1,2))\n",
    "                else:\n",
    "                    test_loss += criterion(out_test, y_test[j].reshape(1,1,2))\n",
    "                    \n",
    "            running_test_loss += test_loss.item()\n",
    "\n",
    "        test_values.append(running_test_loss)\n",
    "       \n",
    "    \n",
    "    print('[epoch%d] running_loss: %.3f, test_loss:%.3f' %(epoch + 1, running_loss, running_test_loss))\n",
    "\n",
    "\n",
    "print('Finished Training')\n"
   ]
  },
  {
   "cell_type": "code",
   "execution_count": 10,
   "metadata": {},
   "outputs": [
    {
     "data": {
      "text/plain": [
       "[<matplotlib.lines.Line2D at 0x7f84e60cb3d0>]"
      ]
     },
     "execution_count": 10,
     "metadata": {},
     "output_type": "execute_result"
    },
    {
     "data": {
      "image/png": "[encoded data removed]",
      "text/plain": [
       "<Figure size 432x288 with 1 Axes>"
      ]
     },
     "metadata": {
      "needs_background": "light"
     },
     "output_type": "display_data"
    }
   ],
   "source": [
    "plt.plot(loss_values) \n",
    "plt.plot(test_values) "
   ]
  },
  {
   "cell_type": "code",
   "execution_count": 11,
   "metadata": {},
   "outputs": [],
   "source": [
    "torch.save(net.state_dict(), 'dataset/data_skill_corner/model_014')"
   ]
  },
  {
   "cell_type": "code",
   "execution_count": null,
   "metadata": {},
   "outputs": [],
   "source": [
    "model = TheModelClass(*args, **kwargs)\n",
    "model.load_state_dict(torch.load(PATH))\n",
    "model.eval() "
   ]
  }
 ],
 "metadata": {
  "kernelspec": {
   "display_name": "Python 3",
   "language": "python",
   "name": "python3"
  },
  "language_info": {
   "codemirror_mode": {
    "name": "ipython",
    "version": 3
   },
   "file_extension": ".py",
   "mimetype": "text/x-python",
   "name": "python",
   "nbconvert_exporter": "python",
   "pygments_lexer": "ipython3",
   "version": "3.7.7"
  }
 },
 "nbformat": 4,
 "nbformat_minor": 4
}
